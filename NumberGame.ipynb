{
  "nbformat": 4,
  "nbformat_minor": 0,
  "metadata": {
    "colab": {
      "name": "NumberGame.ipynb",
      "provenance": [],
      "collapsed_sections": [],
      "authorship_tag": "ABX9TyMsPjyG3cPQmL2+gRghdyo7",
      "include_colab_link": true
    },
    "kernelspec": {
      "name": "python3",
      "display_name": "Python 3"
    },
    "language_info": {
      "name": "python"
    }
  },
  "cells": [
    {
      "cell_type": "markdown",
      "metadata": {
        "id": "view-in-github",
        "colab_type": "text"
      },
      "source": [
        "<a href=\"https://colab.research.google.com/github/Freudelientje/How-to-learn-SQL-/blob/main/NumberGame.ipynb\" target=\"_parent\"><img src=\"https://colab.research.google.com/assets/colab-badge.svg\" alt=\"Open In Colab\"/></a>"
      ]
    },
    {
      "cell_type": "code",
      "metadata": {
        "colab": {
          "base_uri": "https://localhost:8080/"
        },
        "id": "O1AO7xtR7QwD",
        "outputId": "3142d611-454d-43d0-c51b-e29a7acbb85e"
      },
      "source": [
        "if (5 > 1):\n",
        "  print ( \"It’s sunny today\" )\n",
        "else :\n",
        "  print ( \"It’s rainy today\" )"
      ],
      "execution_count": null,
      "outputs": [
        {
          "output_type": "stream",
          "name": "stdout",
          "text": [
            "It’s sunny today\n"
          ]
        }
      ]
    },
    {
      "cell_type": "code",
      "metadata": {
        "colab": {
          "base_uri": "https://localhost:8080/"
        },
        "id": "J-zq38gd7Zpo",
        "outputId": "b0099445-0007-4da8-eb4f-0c82d90ccab8"
      },
      "source": [
        "x = 10\n",
        "if ( int(x) / 2 > 6):\n",
        "  print ( \"It’s sunny today\" )\n",
        "else :\n",
        "  print ( \"It’s rainy today\" )"
      ],
      "execution_count": null,
      "outputs": [
        {
          "output_type": "stream",
          "name": "stdout",
          "text": [
            "It’s rainy today\n"
          ]
        }
      ]
    },
    {
      "cell_type": "code",
      "metadata": {
        "colab": {
          "base_uri": "https://localhost:8080/"
        },
        "id": "KHjydnRG7dFE",
        "outputId": "2f804153-ccbe-4004-a6b8-979a2f21e894"
      },
      "source": [
        "x = input(\"enter a number  \")\n",
        "if ( int(x) / 2 > 6):\n",
        "  print ( \"It’s sunny today\" )\n",
        "else :\n",
        "  print ( \"It’s rainy today\" )"
      ],
      "execution_count": null,
      "outputs": [
        {
          "output_type": "stream",
          "name": "stdout",
          "text": [
            "enter a number  5\n",
            "It’s rainy today\n"
          ]
        }
      ]
    },
    {
      "cell_type": "code",
      "metadata": {
        "colab": {
          "base_uri": "https://localhost:8080/"
        },
        "id": "A5iOYY1W9PqX",
        "outputId": "9a76ef0a-cf06-4f29-bea3-1438a8faf551"
      },
      "source": [
        "import random\n",
        "print(random.randint(50,100))"
      ],
      "execution_count": null,
      "outputs": [
        {
          "output_type": "stream",
          "name": "stdout",
          "text": [
            "66\n"
          ]
        }
      ]
    },
    {
      "cell_type": "code",
      "metadata": {
        "colab": {
          "base_uri": "https://localhost:8080/"
        },
        "id": "ANOorrFq9tgn",
        "outputId": "ef1da49e-fb65-4adc-864c-26d19eda7722"
      },
      "source": [
        "import random\n",
        "print(random.randint(1,10))"
      ],
      "execution_count": null,
      "outputs": [
        {
          "output_type": "stream",
          "name": "stdout",
          "text": [
            "4\n"
          ]
        }
      ]
    },
    {
      "cell_type": "code",
      "metadata": {
        "colab": {
          "base_uri": "https://localhost:8080/"
        },
        "id": "Vp73HTlG-duh",
        "outputId": "cb33dba7-ffad-486e-e18e-7e02e98913a5"
      },
      "source": [
        "yournumber = input(\"enter a number \")\n",
        "import random\n",
        "computernumber = random.randint( 1 , 7 )\n",
        "print(\"the computer number is \",computernumber)\n",
        "if (int(yournumber)>int(computernumber)):\n",
        "  print(\"you won\")\n",
        "else:\n",
        "  print(\"the computer won\")\n"
      ],
      "execution_count": null,
      "outputs": [
        {
          "output_type": "stream",
          "name": "stdout",
          "text": [
            "enter a number 6\n",
            "the computer number is  6\n",
            "the computer won\n"
          ]
        }
      ]
    },
    {
      "cell_type": "code",
      "metadata": {
        "colab": {
          "base_uri": "https://localhost:8080/"
        },
        "id": "ZpBDosBrBZ8c",
        "outputId": "2b0335cd-26fb-4997-83b2-6ccb78107201"
      },
      "source": [
        "yournumber = input(\"enter a number \")\n",
        "import random\n",
        "computernumber = random.randint( 1 , 7 )\n",
        "print(\"the computer number is \",computernumber)\n",
        "if ( 7 > 5 ):\n",
        "  print ( \"Wow!\" )\n",
        "else :\n",
        "  print ( \"Hmm\" )"
      ],
      "execution_count": null,
      "outputs": [
        {
          "output_type": "stream",
          "name": "stdout",
          "text": [
            "enter a number 3\n",
            "the computer number is  7\n",
            "Wow!\n"
          ]
        }
      ]
    },
    {
      "cell_type": "code",
      "metadata": {
        "id": "XzU6v4hlBvO1",
        "colab": {
          "base_uri": "https://localhost:8080/"
        },
        "outputId": "16a94ba1-cae3-4958-f6f3-b450ebe7c4d7"
      },
      "source": [
        "import random\n",
        "print (random.randint( 1 , 7 ))\n",
        "print (random.random())"
      ],
      "execution_count": null,
      "outputs": [
        {
          "output_type": "stream",
          "name": "stdout",
          "text": [
            "5\n",
            "0.9283032188090055\n"
          ]
        }
      ]
    }
  ]
}